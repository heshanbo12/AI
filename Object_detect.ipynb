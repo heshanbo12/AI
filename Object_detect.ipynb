{
 "cells": [
  {
   "cell_type": "code",
   "execution_count": null,
   "metadata": {},
   "outputs": [],
   "source": [
    "import cv2\n",
    "import numpy as np\n",
    "#优点：1、通过直接对象搜索，能够准确判断出目标所在位置，适用于少样本情况下。\n",
    "#缺点：1、目标大小不一致时，会降低判断的准确性；2、图中发生旋转角度的对象无法识别。\n",
    "#改进：1、对大图中对象进行分割，利用旋转、缩放进行匹配，判断出目标。\n",
    "\n",
    "target = cv2.imread('big.JPG')\n",
    "template = cv2.imread('object.JPG')\n",
    "theight, twidth = template.shape[:2]\n",
    "result = cv2.matchTemplate(target,template,cv2.TM_SQDIFF_NORMED)\n",
    "min_val, max_val, min_loc, max_loc = cv2.minMaxLoc(result)\n",
    "# cv2.rectangle(target,min_loc,(min_loc[0]+twidth,min_loc[1]+theight),(0,0,225),5)\n",
    "# strmin_val = str(min_val)\n",
    "# temp_loc = min_loc\n",
    "# other_loc = min_loc\n",
    "numOfloc = 0\n",
    "threshold = 0.2\n",
    "loc = np.where(result<threshold)\n",
    "i = 0\n",
    "other_loc_total = []\n",
    "if len(loc):\n",
    "    for other_loc in zip(*loc[::-1]):\n",
    "        if not len(other_loc_total):\n",
    "            numOfloc = numOfloc + 1\n",
    "            temp_loc = other_loc\n",
    "            cv2.rectangle(target,other_loc,(other_loc[0]+twidth,other_loc[1]+theight),(0,0,225),2)\n",
    "        else:\n",
    "        #第二次筛选----将位置偏移小于5个像素的结果舍去\n",
    "            j = 0\n",
    "            for i in range(len(other_loc_total)):\n",
    "                if (np.abs(other_loc_total[i][0]-other_loc[0])<5)and(np.abs(other_loc_total[i][1]-other_loc[1])<5):\n",
    "                    j = j +1\n",
    "                    continue\n",
    "            if j==0:\n",
    "                numOfloc = numOfloc + 1\n",
    "                temp_loc = other_loc\n",
    "                cv2.rectangle(target,other_loc,(other_loc[0]+twidth,other_loc[1]+theight),(0,0,225),2)  \n",
    "        other_loc_total.append(other_loc)\n",
    "    str_numOfloc = str(numOfloc)\n",
    "    #显示结果,并将匹配值显示在标题栏上\n",
    "    strText = \"----NumberOfPosition:\" + str_numOfloc \n",
    "    cv2.imshow(strText,target)\n",
    "    cv2.waitKey(20000)\n",
    "    cv2.destroyAllWindows()\n",
    "else:\n",
    "    print(\"The target does not exist in the big picture\")"
   ]
  }
 ],
 "metadata": {
  "kernelspec": {
   "display_name": "Python 3",
   "language": "python",
   "name": "python3"
  },
  "language_info": {
   "codemirror_mode": {
    "name": "ipython",
    "version": 3
   },
   "file_extension": ".py",
   "mimetype": "text/x-python",
   "name": "python",
   "nbconvert_exporter": "python",
   "pygments_lexer": "ipython3",
   "version": "3.6.5"
  }
 },
 "nbformat": 4,
 "nbformat_minor": 2
}
